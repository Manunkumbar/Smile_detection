{
  "nbformat": 4,
  "nbformat_minor": 0,
  "metadata": {
    "colab": {
      "name": "Smile_detection.ipynb",
      "provenance": [],
      "private_outputs": true,
      "authorship_tag": "ABX9TyNp4Vj4RM4JlsPfHJLndk1a",
      "include_colab_link": true
    },
    "kernelspec": {
      "name": "python3",
      "display_name": "Python 3"
    }
  },
  "cells": [
    {
      "cell_type": "markdown",
      "metadata": {
        "id": "view-in-github",
        "colab_type": "text"
      },
      "source": [
        "<a href=\"https://colab.research.google.com/github/Manunkumbar/Smile_detection/blob/master/Smile_detection.ipynb\" target=\"_parent\"><img src=\"https://colab.research.google.com/assets/colab-badge.svg\" alt=\"Open In Colab\"/></a>"
      ]
    },
    {
      "cell_type": "code",
      "metadata": {
        "id": "TV7Sa5FzWysA",
        "colab_type": "code",
        "colab": {}
      },
      "source": [
        "import cv2\n"
      ],
      "execution_count": null,
      "outputs": []
    },
    {
      "cell_type": "code",
      "metadata": {
        "id": "TRaONNhpW32Z",
        "colab_type": "code",
        "colab": {}
      },
      "source": [
        "face_cascacde = cv2.CascadeClassifier('haarcascade_frontface_default.xml')\n",
        "smile_cascacde = cv2.CascadeClassifier('haarcascade_smile.xml')\n",
        "\n"
      ],
      "execution_count": null,
      "outputs": []
    },
    {
      "cell_type": "code",
      "metadata": {
        "id": "7kOQPJfIYVFj",
        "colab_type": "code",
        "colab": {}
      },
      "source": [
        "def detect(gray,frame):\n",
        "  faces= face_cascade.detectMultiScale(gray,1.3,5)\n",
        "  for(x,y,w,h) in faces:\n",
        "    cv2.rectangle(frame,(x,y),((x+w),(y+h)),(255,0,0),2)\n",
        "    roi_gray = gray[y:y +h,x:x + w]\n",
        "    roi_color = frame[y:y +h,x:x + w]\n",
        "    smiles = smile.cascade.detectMultiScale(roi_gray, 1.8, 20)\n",
        "\n",
        "    for (sx,sy,sw,sh) in smiles:\n",
        "      cv2.rectangle(roi_color,(sx,sy), ((sx +sw),(sy+sh)),(0,0,255) ,2)\n",
        "  return frame    "
      ],
      "execution_count": null,
      "outputs": []
    },
    {
      "cell_type": "code",
      "metadata": {
        "id": "2kZKompqbnPF",
        "colab_type": "code",
        "colab": {}
      },
      "source": [
        "video_capture = cv2.VideoCapture(0)\n",
        "while True:\n",
        "  _, frame = video_capture.read()\n",
        "  gray = cv2.cvtColor(frame,cv2.COLOR_BGR2GRAY)\n",
        "  canvas = detect(gray,frame)\n",
        "  cv2.imshow('Video',canvas)\n",
        "  if cv2.waitKey(1) & 0xff == ord('q'):\n",
        "    break"
      ],
      "execution_count": null,
      "outputs": []
    },
    {
      "cell_type": "code",
      "metadata": {
        "id": "IJBxqz3Hc6Vw",
        "colab_type": "code",
        "colab": {}
      },
      "source": [
        "video_capture.release()\n",
        "cv2.destroyAllWindows()\n"
      ],
      "execution_count": null,
      "outputs": []
    },
    {
      "cell_type": "code",
      "metadata": {
        "id": "veMjIdrudhq-",
        "colab_type": "code",
        "colab": {}
      },
      "source": [
        ""
      ],
      "execution_count": null,
      "outputs": []
    }
  ]
}